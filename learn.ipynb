{
 "cells": [
  {
   "cell_type": "code",
   "execution_count": 1,
   "id": "73a406d9-27cd-440b-9529-8544029d6eb5",
   "metadata": {},
   "outputs": [],
   "source": [
    "import pandas as pd\n",
    "import numpy as np\n",
    "import matplotlib.pyplot as plt\n",
    "import seaborn as sns\n",
    "%matplotlib inline"
   ]
  },
  {
   "cell_type": "code",
   "execution_count": 2,
   "id": "90f8f5be-8d83-42f3-85b6-067ef567fbb7",
   "metadata": {},
   "outputs": [],
   "source": [
    "df = pd.read_csv('data.csv')"
   ]
  },
  {
   "cell_type": "code",
   "execution_count": 3,
   "id": "2b919073-f105-45d7-935b-6424bfe5fa9c",
   "metadata": {},
   "outputs": [
    {
     "data": {
      "text/html": [
       "<div>\n",
       "<style scoped>\n",
       "    .dataframe tbody tr th:only-of-type {\n",
       "        vertical-align: middle;\n",
       "    }\n",
       "\n",
       "    .dataframe tbody tr th {\n",
       "        vertical-align: top;\n",
       "    }\n",
       "\n",
       "    .dataframe thead th {\n",
       "        text-align: right;\n",
       "    }\n",
       "</style>\n",
       "<table border=\"1\" class=\"dataframe\">\n",
       "  <thead>\n",
       "    <tr style=\"text-align: right;\">\n",
       "      <th></th>\n",
       "      <th>POSTED_BY</th>\n",
       "      <th>UNDER_CONSTRUCTION</th>\n",
       "      <th>RERA</th>\n",
       "      <th>BHK_NO.</th>\n",
       "      <th>BHK_OR_RK</th>\n",
       "      <th>SQUARE_FT</th>\n",
       "      <th>READY_TO_MOVE</th>\n",
       "      <th>RESALE</th>\n",
       "      <th>ADDRESS</th>\n",
       "      <th>LONGITUDE</th>\n",
       "      <th>LATITUDE</th>\n",
       "      <th>TARGET(PRICE_IN_LACS)</th>\n",
       "    </tr>\n",
       "  </thead>\n",
       "  <tbody>\n",
       "    <tr>\n",
       "      <th>0</th>\n",
       "      <td>Owner</td>\n",
       "      <td>0</td>\n",
       "      <td>0</td>\n",
       "      <td>2</td>\n",
       "      <td>BHK</td>\n",
       "      <td>1300.236407</td>\n",
       "      <td>1</td>\n",
       "      <td>1</td>\n",
       "      <td>Ksfc Layout,Bangalore</td>\n",
       "      <td>12.969910</td>\n",
       "      <td>77.597960</td>\n",
       "      <td>55.0</td>\n",
       "    </tr>\n",
       "    <tr>\n",
       "      <th>1</th>\n",
       "      <td>Dealer</td>\n",
       "      <td>0</td>\n",
       "      <td>0</td>\n",
       "      <td>2</td>\n",
       "      <td>BHK</td>\n",
       "      <td>1275.000000</td>\n",
       "      <td>1</td>\n",
       "      <td>1</td>\n",
       "      <td>Vishweshwara Nagar,Mysore</td>\n",
       "      <td>12.274538</td>\n",
       "      <td>76.644605</td>\n",
       "      <td>51.0</td>\n",
       "    </tr>\n",
       "    <tr>\n",
       "      <th>2</th>\n",
       "      <td>Owner</td>\n",
       "      <td>0</td>\n",
       "      <td>0</td>\n",
       "      <td>2</td>\n",
       "      <td>BHK</td>\n",
       "      <td>933.159722</td>\n",
       "      <td>1</td>\n",
       "      <td>1</td>\n",
       "      <td>Jigani,Bangalore</td>\n",
       "      <td>12.778033</td>\n",
       "      <td>77.632191</td>\n",
       "      <td>43.0</td>\n",
       "    </tr>\n",
       "    <tr>\n",
       "      <th>3</th>\n",
       "      <td>Owner</td>\n",
       "      <td>0</td>\n",
       "      <td>1</td>\n",
       "      <td>2</td>\n",
       "      <td>BHK</td>\n",
       "      <td>929.921143</td>\n",
       "      <td>1</td>\n",
       "      <td>1</td>\n",
       "      <td>Sector-1 Vaishali,Ghaziabad</td>\n",
       "      <td>28.642300</td>\n",
       "      <td>77.344500</td>\n",
       "      <td>62.5</td>\n",
       "    </tr>\n",
       "    <tr>\n",
       "      <th>4</th>\n",
       "      <td>Dealer</td>\n",
       "      <td>1</td>\n",
       "      <td>0</td>\n",
       "      <td>2</td>\n",
       "      <td>BHK</td>\n",
       "      <td>999.009247</td>\n",
       "      <td>0</td>\n",
       "      <td>1</td>\n",
       "      <td>New Town,Kolkata</td>\n",
       "      <td>22.592200</td>\n",
       "      <td>88.484911</td>\n",
       "      <td>60.5</td>\n",
       "    </tr>\n",
       "  </tbody>\n",
       "</table>\n",
       "</div>"
      ],
      "text/plain": [
       "  POSTED_BY  UNDER_CONSTRUCTION  RERA  BHK_NO. BHK_OR_RK    SQUARE_FT  \\\n",
       "0     Owner                   0     0        2       BHK  1300.236407   \n",
       "1    Dealer                   0     0        2       BHK  1275.000000   \n",
       "2     Owner                   0     0        2       BHK   933.159722   \n",
       "3     Owner                   0     1        2       BHK   929.921143   \n",
       "4    Dealer                   1     0        2       BHK   999.009247   \n",
       "\n",
       "   READY_TO_MOVE  RESALE                      ADDRESS  LONGITUDE   LATITUDE  \\\n",
       "0              1       1        Ksfc Layout,Bangalore  12.969910  77.597960   \n",
       "1              1       1    Vishweshwara Nagar,Mysore  12.274538  76.644605   \n",
       "2              1       1             Jigani,Bangalore  12.778033  77.632191   \n",
       "3              1       1  Sector-1 Vaishali,Ghaziabad  28.642300  77.344500   \n",
       "4              0       1             New Town,Kolkata  22.592200  88.484911   \n",
       "\n",
       "   TARGET(PRICE_IN_LACS)  \n",
       "0                   55.0  \n",
       "1                   51.0  \n",
       "2                   43.0  \n",
       "3                   62.5  \n",
       "4                   60.5  "
      ]
     },
     "execution_count": 3,
     "metadata": {},
     "output_type": "execute_result"
    }
   ],
   "source": [
    "df.head()"
   ]
  },
  {
   "cell_type": "code",
   "execution_count": 4,
   "id": "a9418690-3cac-4a2b-abcb-b36b095c2916",
   "metadata": {},
   "outputs": [
    {
     "data": {
      "text/plain": [
       "(29451, 12)"
      ]
     },
     "execution_count": 4,
     "metadata": {},
     "output_type": "execute_result"
    }
   ],
   "source": [
    "df.shape"
   ]
  },
  {
   "cell_type": "code",
   "execution_count": 5,
   "id": "0d2e7200-d99f-4f59-a510-abf3fabca78e",
   "metadata": {},
   "outputs": [
    {
     "name": "stdout",
     "output_type": "stream",
     "text": [
      "<class 'pandas.core.frame.DataFrame'>\n",
      "RangeIndex: 29451 entries, 0 to 29450\n",
      "Data columns (total 12 columns):\n",
      " #   Column                 Non-Null Count  Dtype  \n",
      "---  ------                 --------------  -----  \n",
      " 0   POSTED_BY              29451 non-null  object \n",
      " 1   UNDER_CONSTRUCTION     29451 non-null  int64  \n",
      " 2   RERA                   29451 non-null  int64  \n",
      " 3   BHK_NO.                29451 non-null  int64  \n",
      " 4   BHK_OR_RK              29451 non-null  object \n",
      " 5   SQUARE_FT              29451 non-null  float64\n",
      " 6   READY_TO_MOVE          29451 non-null  int64  \n",
      " 7   RESALE                 29451 non-null  int64  \n",
      " 8   ADDRESS                29451 non-null  object \n",
      " 9   LONGITUDE              29451 non-null  float64\n",
      " 10  LATITUDE               29451 non-null  float64\n",
      " 11  TARGET(PRICE_IN_LACS)  29451 non-null  float64\n",
      "dtypes: float64(4), int64(5), object(3)\n",
      "memory usage: 2.7+ MB\n"
     ]
    }
   ],
   "source": [
    "df.info()"
   ]
  },
  {
   "cell_type": "code",
   "execution_count": 6,
   "id": "98ed5edb-a0b7-4163-9a6d-cccbf053195f",
   "metadata": {},
   "outputs": [
    {
     "name": "stdout",
     "output_type": "stream",
     "text": [
      "POSTED_BY ['Owner' 'Dealer' 'Builder']\n",
      "BHK_OR_RK ['BHK' 'RK']\n"
     ]
    }
   ],
   "source": [
    "print('POSTED_BY' , df.POSTED_BY.unique())\n",
    "print('BHK_OR_RK' , df.BHK_OR_RK.unique())\n"
   ]
  },
  {
   "cell_type": "code",
   "execution_count": 7,
   "id": "f04e7b9a-a8e7-42a9-91e9-b83918d62ca5",
   "metadata": {},
   "outputs": [],
   "source": [
    "df.BHK_OR_RK= df.BHK_OR_RK.map(dict(RK=1, BHK=0))"
   ]
  },
  {
   "cell_type": "code",
   "execution_count": 8,
   "id": "2a0e06c2-ea42-4765-ae56-5c3191e8fb06",
   "metadata": {},
   "outputs": [],
   "source": [
    "df.POSTED_BY= df.POSTED_BY.map(dict(Builder=2, Dealer=1, Owner=0))"
   ]
  },
  {
   "cell_type": "code",
   "execution_count": 9,
   "id": "5181b0e5-5c0b-4970-bd50-9f4c742a1799",
   "metadata": {},
   "outputs": [
    {
     "name": "stdout",
     "output_type": "stream",
     "text": [
      "<class 'pandas.core.frame.DataFrame'>\n",
      "RangeIndex: 29451 entries, 0 to 29450\n",
      "Data columns (total 12 columns):\n",
      " #   Column                 Non-Null Count  Dtype  \n",
      "---  ------                 --------------  -----  \n",
      " 0   POSTED_BY              29451 non-null  int64  \n",
      " 1   UNDER_CONSTRUCTION     29451 non-null  int64  \n",
      " 2   RERA                   29451 non-null  int64  \n",
      " 3   BHK_NO.                29451 non-null  int64  \n",
      " 4   BHK_OR_RK              29451 non-null  int64  \n",
      " 5   SQUARE_FT              29451 non-null  float64\n",
      " 6   READY_TO_MOVE          29451 non-null  int64  \n",
      " 7   RESALE                 29451 non-null  int64  \n",
      " 8   ADDRESS                29451 non-null  object \n",
      " 9   LONGITUDE              29451 non-null  float64\n",
      " 10  LATITUDE               29451 non-null  float64\n",
      " 11  TARGET(PRICE_IN_LACS)  29451 non-null  float64\n",
      "dtypes: float64(4), int64(7), object(1)\n",
      "memory usage: 2.7+ MB\n"
     ]
    }
   ],
   "source": [
    "df.info()"
   ]
  },
  {
   "cell_type": "code",
   "execution_count": 10,
   "id": "a7124171-2153-48b3-834b-077c777f5f81",
   "metadata": {},
   "outputs": [
    {
     "data": {
      "text/plain": [
       "array(['Ksfc Layout,Bangalore', 'Vishweshwara Nagar,Mysore',\n",
       "       'Jigani,Bangalore', ..., 'west mambalam,Chennai',\n",
       "       'Gandhi Nagar,Gulbarga', 'E3-108, Lake View Recidency,,Vapi'],\n",
       "      dtype=object)"
      ]
     },
     "execution_count": 10,
     "metadata": {},
     "output_type": "execute_result"
    }
   ],
   "source": [
    "df.ADDRESS.unique()"
   ]
  },
  {
   "cell_type": "code",
   "execution_count": 11,
   "id": "f8cc146c-f972-44bb-9410-9af43a320256",
   "metadata": {},
   "outputs": [
    {
     "data": {
      "text/plain": [
       "0           Ksfc Layout,Bangalore\n",
       "1       Vishweshwara Nagar,Mysore\n",
       "2                Jigani,Bangalore\n",
       "3     Sector-1 Vaishali,Ghaziabad\n",
       "4                New Town,Kolkata\n",
       "5            South Chittoor,Kochi\n",
       "6                   Sodala,Jaipur\n",
       "7                   Kharar,Mohali\n",
       "8           Bileshivale,Bangalore\n",
       "9               Chromepet,Chennai\n",
       "10       Deshbandhu Para,Siliguri\n",
       "11               Hebbal,Bangalore\n",
       "12       Garebhavipalya,Bangalore\n",
       "13         Sector-119 Noida,Noida\n",
       "14            sanjay nagar,Raigad\n",
       "15         Sector-150 Noida,Noida\n",
       "16          Jharapada,Bhubaneswar\n",
       "17          Konanakunte,Bangalore\n",
       "18             Nagpur Road,Wardha\n",
       "19               Kogilu,Bangalore\n",
       "20            Poonamallee,Chennai\n",
       "21                     Undri,Pune\n",
       "22         Sector-134 Noida,Noida\n",
       "23           Bandra (West),Mumbai\n",
       "24          Narendra Nagar,Nagpur\n",
       "25                 Kudgat,Kolkata\n",
       "26           Sain Vihar,Ghaziabad\n",
       "27       Sector-115 Mohali,Mohali\n",
       "28            Mohan Asram,Deoghar\n",
       "29      Alwar Bypass Road,Bhiwadi\n",
       "Name: ADDRESS, dtype: object"
      ]
     },
     "execution_count": 11,
     "metadata": {},
     "output_type": "execute_result"
    }
   ],
   "source": [
    "df.ADDRESS.head(30)"
   ]
  },
  {
   "cell_type": "code",
   "execution_count": 12,
   "id": "2fbb2785-3875-460f-8c2b-3259f08f349b",
   "metadata": {},
   "outputs": [],
   "source": [
    "df.ADDRESS = df.ADDRESS.apply(lambda x: x.split(',')[-1])"
   ]
  },
  {
   "cell_type": "code",
   "execution_count": 13,
   "id": "b9dc7ca3-bdee-43fd-af67-e633df30d9b2",
   "metadata": {},
   "outputs": [
    {
     "name": "stdout",
     "output_type": "stream",
     "text": [
      "<class 'pandas.core.frame.DataFrame'>\n",
      "RangeIndex: 29451 entries, 0 to 29450\n",
      "Data columns (total 12 columns):\n",
      " #   Column                 Non-Null Count  Dtype  \n",
      "---  ------                 --------------  -----  \n",
      " 0   POSTED_BY              29451 non-null  int64  \n",
      " 1   UNDER_CONSTRUCTION     29451 non-null  int64  \n",
      " 2   RERA                   29451 non-null  int64  \n",
      " 3   BHK_NO.                29451 non-null  int64  \n",
      " 4   BHK_OR_RK              29451 non-null  int64  \n",
      " 5   SQUARE_FT              29451 non-null  float64\n",
      " 6   READY_TO_MOVE          29451 non-null  int64  \n",
      " 7   RESALE                 29451 non-null  int64  \n",
      " 8   ADDRESS                29451 non-null  object \n",
      " 9   LONGITUDE              29451 non-null  float64\n",
      " 10  LATITUDE               29451 non-null  float64\n",
      " 11  TARGET(PRICE_IN_LACS)  29451 non-null  float64\n",
      "dtypes: float64(4), int64(7), object(1)\n",
      "memory usage: 2.7+ MB\n"
     ]
    }
   ],
   "source": [
    "df.info()"
   ]
  },
  {
   "cell_type": "code",
   "execution_count": 14,
   "id": "b3303c0b-a04c-41c2-ab58-ee6926117b1d",
   "metadata": {},
   "outputs": [
    {
     "data": {
      "text/html": [
       "<div>\n",
       "<style scoped>\n",
       "    .dataframe tbody tr th:only-of-type {\n",
       "        vertical-align: middle;\n",
       "    }\n",
       "\n",
       "    .dataframe tbody tr th {\n",
       "        vertical-align: top;\n",
       "    }\n",
       "\n",
       "    .dataframe thead th {\n",
       "        text-align: right;\n",
       "    }\n",
       "</style>\n",
       "<table border=\"1\" class=\"dataframe\">\n",
       "  <thead>\n",
       "    <tr style=\"text-align: right;\">\n",
       "      <th></th>\n",
       "      <th>POSTED_BY</th>\n",
       "      <th>UNDER_CONSTRUCTION</th>\n",
       "      <th>RERA</th>\n",
       "      <th>BHK_NO.</th>\n",
       "      <th>BHK_OR_RK</th>\n",
       "      <th>SQUARE_FT</th>\n",
       "      <th>READY_TO_MOVE</th>\n",
       "      <th>RESALE</th>\n",
       "      <th>ADDRESS</th>\n",
       "      <th>LONGITUDE</th>\n",
       "      <th>LATITUDE</th>\n",
       "      <th>TARGET(PRICE_IN_LACS)</th>\n",
       "    </tr>\n",
       "  </thead>\n",
       "  <tbody>\n",
       "    <tr>\n",
       "      <th>0</th>\n",
       "      <td>0</td>\n",
       "      <td>0</td>\n",
       "      <td>0</td>\n",
       "      <td>2</td>\n",
       "      <td>0</td>\n",
       "      <td>1300.236407</td>\n",
       "      <td>1</td>\n",
       "      <td>1</td>\n",
       "      <td>Bangalore</td>\n",
       "      <td>12.969910</td>\n",
       "      <td>77.597960</td>\n",
       "      <td>55.0</td>\n",
       "    </tr>\n",
       "    <tr>\n",
       "      <th>1</th>\n",
       "      <td>1</td>\n",
       "      <td>0</td>\n",
       "      <td>0</td>\n",
       "      <td>2</td>\n",
       "      <td>0</td>\n",
       "      <td>1275.000000</td>\n",
       "      <td>1</td>\n",
       "      <td>1</td>\n",
       "      <td>Mysore</td>\n",
       "      <td>12.274538</td>\n",
       "      <td>76.644605</td>\n",
       "      <td>51.0</td>\n",
       "    </tr>\n",
       "    <tr>\n",
       "      <th>2</th>\n",
       "      <td>0</td>\n",
       "      <td>0</td>\n",
       "      <td>0</td>\n",
       "      <td>2</td>\n",
       "      <td>0</td>\n",
       "      <td>933.159722</td>\n",
       "      <td>1</td>\n",
       "      <td>1</td>\n",
       "      <td>Bangalore</td>\n",
       "      <td>12.778033</td>\n",
       "      <td>77.632191</td>\n",
       "      <td>43.0</td>\n",
       "    </tr>\n",
       "    <tr>\n",
       "      <th>3</th>\n",
       "      <td>0</td>\n",
       "      <td>0</td>\n",
       "      <td>1</td>\n",
       "      <td>2</td>\n",
       "      <td>0</td>\n",
       "      <td>929.921143</td>\n",
       "      <td>1</td>\n",
       "      <td>1</td>\n",
       "      <td>Ghaziabad</td>\n",
       "      <td>28.642300</td>\n",
       "      <td>77.344500</td>\n",
       "      <td>62.5</td>\n",
       "    </tr>\n",
       "    <tr>\n",
       "      <th>4</th>\n",
       "      <td>1</td>\n",
       "      <td>1</td>\n",
       "      <td>0</td>\n",
       "      <td>2</td>\n",
       "      <td>0</td>\n",
       "      <td>999.009247</td>\n",
       "      <td>0</td>\n",
       "      <td>1</td>\n",
       "      <td>Kolkata</td>\n",
       "      <td>22.592200</td>\n",
       "      <td>88.484911</td>\n",
       "      <td>60.5</td>\n",
       "    </tr>\n",
       "  </tbody>\n",
       "</table>\n",
       "</div>"
      ],
      "text/plain": [
       "   POSTED_BY  UNDER_CONSTRUCTION  RERA  BHK_NO.  BHK_OR_RK    SQUARE_FT  \\\n",
       "0          0                   0     0        2          0  1300.236407   \n",
       "1          1                   0     0        2          0  1275.000000   \n",
       "2          0                   0     0        2          0   933.159722   \n",
       "3          0                   0     1        2          0   929.921143   \n",
       "4          1                   1     0        2          0   999.009247   \n",
       "\n",
       "   READY_TO_MOVE  RESALE    ADDRESS  LONGITUDE   LATITUDE  \\\n",
       "0              1       1  Bangalore  12.969910  77.597960   \n",
       "1              1       1     Mysore  12.274538  76.644605   \n",
       "2              1       1  Bangalore  12.778033  77.632191   \n",
       "3              1       1  Ghaziabad  28.642300  77.344500   \n",
       "4              0       1    Kolkata  22.592200  88.484911   \n",
       "\n",
       "   TARGET(PRICE_IN_LACS)  \n",
       "0                   55.0  \n",
       "1                   51.0  \n",
       "2                   43.0  \n",
       "3                   62.5  \n",
       "4                   60.5  "
      ]
     },
     "execution_count": 14,
     "metadata": {},
     "output_type": "execute_result"
    }
   ],
   "source": [
    "df.head()"
   ]
  },
  {
   "cell_type": "code",
   "execution_count": 15,
   "id": "1c33d176-bd81-4841-8bf0-ff748e7aa761",
   "metadata": {},
   "outputs": [
    {
     "data": {
      "text/plain": [
       "array(['Bangalore', 'Mysore', 'Ghaziabad', 'Kolkata', 'Kochi', 'Jaipur',\n",
       "       'Mohali', 'Chennai', 'Siliguri', 'Noida', 'Raigad', 'Bhubaneswar',\n",
       "       'Wardha', 'Pune', 'Mumbai', 'Nagpur', 'Deoghar', 'Bhiwadi',\n",
       "       'Faridabad', 'Lalitpur', 'Maharashtra', 'Vadodara',\n",
       "       'Visakhapatnam', 'Vapi', 'Mangalore', 'Aurangabad', 'Ottapalam',\n",
       "       'Vijayawada', 'Belgaum', 'Bhopal', 'Lucknow', 'Kanpur',\n",
       "       'Gandhinagar', 'Pondicherry', 'Agra', 'Ranchi', 'Gurgaon', 'Udupi',\n",
       "       'Indore', 'Jodhpur', 'Coimbatore', 'Valsad', 'Palghar', 'Surat',\n",
       "       'Varanasi', 'Guwahati', 'Amravati', 'Anand', 'Tirupati',\n",
       "       'Secunderabad', 'Raipur', 'Vizianagaram', 'Thrissur', 'Satna',\n",
       "       'Madurai', 'Chandigarh', 'Shimla', 'Gwalior', 'Rajkot', 'Sonipat',\n",
       "       'Allahabad', 'Berhampur', 'Roorkee', 'Dharuhera', 'Latur',\n",
       "       'Durgapur', 'Panchkula', 'Solapur', 'Durg', 'Goa', 'Jamshedpur',\n",
       "       'Hazaribagh', 'Jabalpur', 'Hosur', 'Morbi', 'Hubli', 'Karnal',\n",
       "       'Patna', 'Bilaspur', 'Ratnagiri', 'Meerut', 'Kotdwara',\n",
       "       'Jalandhar', 'Amritsar', 'Patiala', 'Ludhiana', 'Alwar', 'Kota',\n",
       "       'Panaji', 'Kolhapur', 'Ernakulam', 'Bhavnagar', 'Bharuch',\n",
       "       'Asansol', 'Jhansi', 'Margao', 'Anantapur', 'Eluru', 'Bhilai',\n",
       "       'Dehradun', 'Guntur', 'Jalgaon', 'Udaipur', 'Gurdaspur',\n",
       "       'Neemrana', 'Hassan', 'Sindhudurg', 'Hoshangabad', 'Kottayam',\n",
       "       'Dhanbad', 'Navsari', 'Bahadurgarh', 'Nellore', 'Dhule',\n",
       "       'Tirunelveli', 'Cuttack', 'Haridwar', 'Nainital', 'Jamnagar',\n",
       "       'Kanchipuram', 'Kadi', 'Karad', 'Jagdalpur', 'Panipat',\n",
       "       'Muzaffarpur', 'Salem', 'Jhunjhunu', 'Gandhidham', 'Junagadh',\n",
       "       'Moradabad', 'Ahmednagar', 'Jalna', 'Bhiwani', 'Palakkad',\n",
       "       'Kannur', 'Karjat', 'Akola', 'Jind', 'Gaya', 'Ambala', 'Ajmer',\n",
       "       'Hajipur', 'Dharwad', 'Pudukkottai', 'Kollam', 'Ooty', 'Bhandara',\n",
       "       'Barabanki', 'Rajpura', 'Palwal', 'Aligarh', 'Erode', 'Rudrapur',\n",
       "       'Tenali', 'Ongole', 'Nizamabad', 'Puri', 'Dalhousie', 'Siddipet',\n",
       "       'Solan', 'Darbhanga', 'Kadapa', 'Kakinada', 'Agartala', 'Warangal',\n",
       "       'Haldwani', 'Osmanabad', 'Bhagalpur', 'Bardhaman', 'Rishikesh',\n",
       "       'Chandrapur', 'Bokaro', 'Jharsuguda', 'Bhimavaram', 'Kurnool',\n",
       "       'Amroha', 'Hapur', 'Sabarkantha', 'Harda', 'Ujjain', 'Thoothukudi',\n",
       "       'Karaikudi', 'Mathura', 'Gadhinglaj', 'Rewari', 'Godhra',\n",
       "       'Kharagpur', 'Srikakulam', 'Srinagar', 'Midnapore', 'Rayagada',\n",
       "       'Banswara', 'Shirdi', 'Rohtak', 'Pali', 'Hathras', 'Yavatmal',\n",
       "       'Balasore', 'Chhindwara', 'Bareilly', 'Vidisha', 'Thanjavur',\n",
       "       'Kangra', 'Bikaner', 'Rewa', 'Porbandar', 'Nagaur', 'Nanded',\n",
       "       'Rourkela', 'Nadiad', 'Gulbarga', 'Palanpur', 'Bhadrak',\n",
       "       'Kurukshetra', 'Dibrugarh', 'Sagar', 'Machilipatnam',\n",
       "       'Pathanamthitta', 'Bankura', 'Jammu', 'Idukki', 'Korba', 'Raigarh',\n",
       "       'Silchar', 'Arrah', 'Nagaon', 'Karwar', 'Dahod', 'Nagapattinam',\n",
       "       'Sikar', 'Angul', 'Baddi', 'Darjeeling', 'Raisen', 'Hoshiarpur',\n",
       "       'Beed', 'Gadarwara', 'Jajpur', 'Haldia', 'Chittoor', 'Faizabad',\n",
       "       'Malappuram', 'Betul', 'Surendranagar', 'Phagwara', 'Visnagar',\n",
       "       'Rajnandgaon', 'Cuddalore', 'Raichur', 'Sambalpur', 'Gondia',\n",
       "       'Vellore', 'Bharatpur', 'Bhuj', 'Siwan', 'Washim'], dtype=object)"
      ]
     },
     "execution_count": 15,
     "metadata": {},
     "output_type": "execute_result"
    }
   ],
   "source": [
    "df.ADDRESS.unique()"
   ]
  },
  {
   "cell_type": "markdown",
   "id": "67c37c37-79cc-46f3-be93-e8ff3d19b13a",
   "metadata": {},
   "source": [
    "since there are many values in the address column it is better to drop the column."
   ]
  },
  {
   "cell_type": "code",
   "execution_count": 16,
   "id": "343365da-0309-4e9a-b22d-175d6f15f741",
   "metadata": {},
   "outputs": [],
   "source": [
    "df.drop('ADDRESS',axis=1, inplace=True)"
   ]
  },
  {
   "cell_type": "code",
   "execution_count": 17,
   "id": "d89f7c51-bea6-4988-9620-b7afa3d6d84e",
   "metadata": {},
   "outputs": [
    {
     "name": "stdout",
     "output_type": "stream",
     "text": [
      "<class 'pandas.core.frame.DataFrame'>\n",
      "RangeIndex: 29451 entries, 0 to 29450\n",
      "Data columns (total 11 columns):\n",
      " #   Column                 Non-Null Count  Dtype  \n",
      "---  ------                 --------------  -----  \n",
      " 0   POSTED_BY              29451 non-null  int64  \n",
      " 1   UNDER_CONSTRUCTION     29451 non-null  int64  \n",
      " 2   RERA                   29451 non-null  int64  \n",
      " 3   BHK_NO.                29451 non-null  int64  \n",
      " 4   BHK_OR_RK              29451 non-null  int64  \n",
      " 5   SQUARE_FT              29451 non-null  float64\n",
      " 6   READY_TO_MOVE          29451 non-null  int64  \n",
      " 7   RESALE                 29451 non-null  int64  \n",
      " 8   LONGITUDE              29451 non-null  float64\n",
      " 9   LATITUDE               29451 non-null  float64\n",
      " 10  TARGET(PRICE_IN_LACS)  29451 non-null  float64\n",
      "dtypes: float64(4), int64(7)\n",
      "memory usage: 2.5 MB\n"
     ]
    }
   ],
   "source": [
    "df.info()"
   ]
  },
  {
   "cell_type": "code",
   "execution_count": 18,
   "id": "afcc284d-9f8f-46bd-bd58-b185ec22bc76",
   "metadata": {},
   "outputs": [
    {
     "data": {
      "text/html": [
       "<div>\n",
       "<style scoped>\n",
       "    .dataframe tbody tr th:only-of-type {\n",
       "        vertical-align: middle;\n",
       "    }\n",
       "\n",
       "    .dataframe tbody tr th {\n",
       "        vertical-align: top;\n",
       "    }\n",
       "\n",
       "    .dataframe thead th {\n",
       "        text-align: right;\n",
       "    }\n",
       "</style>\n",
       "<table border=\"1\" class=\"dataframe\">\n",
       "  <thead>\n",
       "    <tr style=\"text-align: right;\">\n",
       "      <th></th>\n",
       "      <th>count</th>\n",
       "      <th>mean</th>\n",
       "      <th>std</th>\n",
       "      <th>min</th>\n",
       "      <th>25%</th>\n",
       "      <th>50%</th>\n",
       "      <th>75%</th>\n",
       "      <th>max</th>\n",
       "    </tr>\n",
       "  </thead>\n",
       "  <tbody>\n",
       "    <tr>\n",
       "      <th>POSTED_BY</th>\n",
       "      <td>29451.0</td>\n",
       "      <td>0.663305</td>\n",
       "      <td>5.153446e-01</td>\n",
       "      <td>0.000000</td>\n",
       "      <td>0.000000</td>\n",
       "      <td>1.000000</td>\n",
       "      <td>1.000000</td>\n",
       "      <td>2.000000e+00</td>\n",
       "    </tr>\n",
       "    <tr>\n",
       "      <th>UNDER_CONSTRUCTION</th>\n",
       "      <td>29451.0</td>\n",
       "      <td>0.179756</td>\n",
       "      <td>3.839908e-01</td>\n",
       "      <td>0.000000</td>\n",
       "      <td>0.000000</td>\n",
       "      <td>0.000000</td>\n",
       "      <td>0.000000</td>\n",
       "      <td>1.000000e+00</td>\n",
       "    </tr>\n",
       "    <tr>\n",
       "      <th>RERA</th>\n",
       "      <td>29451.0</td>\n",
       "      <td>0.317918</td>\n",
       "      <td>4.656753e-01</td>\n",
       "      <td>0.000000</td>\n",
       "      <td>0.000000</td>\n",
       "      <td>0.000000</td>\n",
       "      <td>1.000000</td>\n",
       "      <td>1.000000e+00</td>\n",
       "    </tr>\n",
       "    <tr>\n",
       "      <th>BHK_NO.</th>\n",
       "      <td>29451.0</td>\n",
       "      <td>2.392279</td>\n",
       "      <td>8.790913e-01</td>\n",
       "      <td>1.000000</td>\n",
       "      <td>2.000000</td>\n",
       "      <td>2.000000</td>\n",
       "      <td>3.000000</td>\n",
       "      <td>2.000000e+01</td>\n",
       "    </tr>\n",
       "    <tr>\n",
       "      <th>BHK_OR_RK</th>\n",
       "      <td>29451.0</td>\n",
       "      <td>0.000815</td>\n",
       "      <td>2.853553e-02</td>\n",
       "      <td>0.000000</td>\n",
       "      <td>0.000000</td>\n",
       "      <td>0.000000</td>\n",
       "      <td>0.000000</td>\n",
       "      <td>1.000000e+00</td>\n",
       "    </tr>\n",
       "    <tr>\n",
       "      <th>SQUARE_FT</th>\n",
       "      <td>29451.0</td>\n",
       "      <td>19802.170190</td>\n",
       "      <td>1.901335e+06</td>\n",
       "      <td>3.000000</td>\n",
       "      <td>900.021130</td>\n",
       "      <td>1175.056750</td>\n",
       "      <td>1550.688124</td>\n",
       "      <td>2.545455e+08</td>\n",
       "    </tr>\n",
       "    <tr>\n",
       "      <th>READY_TO_MOVE</th>\n",
       "      <td>29451.0</td>\n",
       "      <td>0.820244</td>\n",
       "      <td>3.839908e-01</td>\n",
       "      <td>0.000000</td>\n",
       "      <td>1.000000</td>\n",
       "      <td>1.000000</td>\n",
       "      <td>1.000000</td>\n",
       "      <td>1.000000e+00</td>\n",
       "    </tr>\n",
       "    <tr>\n",
       "      <th>RESALE</th>\n",
       "      <td>29451.0</td>\n",
       "      <td>0.929578</td>\n",
       "      <td>2.558613e-01</td>\n",
       "      <td>0.000000</td>\n",
       "      <td>1.000000</td>\n",
       "      <td>1.000000</td>\n",
       "      <td>1.000000</td>\n",
       "      <td>1.000000e+00</td>\n",
       "    </tr>\n",
       "    <tr>\n",
       "      <th>LONGITUDE</th>\n",
       "      <td>29451.0</td>\n",
       "      <td>21.300255</td>\n",
       "      <td>6.205306e+00</td>\n",
       "      <td>-37.713008</td>\n",
       "      <td>18.452663</td>\n",
       "      <td>20.750000</td>\n",
       "      <td>26.900926</td>\n",
       "      <td>5.991288e+01</td>\n",
       "    </tr>\n",
       "    <tr>\n",
       "      <th>LATITUDE</th>\n",
       "      <td>29451.0</td>\n",
       "      <td>76.837695</td>\n",
       "      <td>1.055775e+01</td>\n",
       "      <td>-121.761248</td>\n",
       "      <td>73.798100</td>\n",
       "      <td>77.324137</td>\n",
       "      <td>77.828740</td>\n",
       "      <td>1.529627e+02</td>\n",
       "    </tr>\n",
       "    <tr>\n",
       "      <th>TARGET(PRICE_IN_LACS)</th>\n",
       "      <td>29451.0</td>\n",
       "      <td>142.898746</td>\n",
       "      <td>6.568807e+02</td>\n",
       "      <td>0.250000</td>\n",
       "      <td>38.000000</td>\n",
       "      <td>62.000000</td>\n",
       "      <td>100.000000</td>\n",
       "      <td>3.000000e+04</td>\n",
       "    </tr>\n",
       "  </tbody>\n",
       "</table>\n",
       "</div>"
      ],
      "text/plain": [
       "                         count          mean           std         min  \\\n",
       "POSTED_BY              29451.0      0.663305  5.153446e-01    0.000000   \n",
       "UNDER_CONSTRUCTION     29451.0      0.179756  3.839908e-01    0.000000   \n",
       "RERA                   29451.0      0.317918  4.656753e-01    0.000000   \n",
       "BHK_NO.                29451.0      2.392279  8.790913e-01    1.000000   \n",
       "BHK_OR_RK              29451.0      0.000815  2.853553e-02    0.000000   \n",
       "SQUARE_FT              29451.0  19802.170190  1.901335e+06    3.000000   \n",
       "READY_TO_MOVE          29451.0      0.820244  3.839908e-01    0.000000   \n",
       "RESALE                 29451.0      0.929578  2.558613e-01    0.000000   \n",
       "LONGITUDE              29451.0     21.300255  6.205306e+00  -37.713008   \n",
       "LATITUDE               29451.0     76.837695  1.055775e+01 -121.761248   \n",
       "TARGET(PRICE_IN_LACS)  29451.0    142.898746  6.568807e+02    0.250000   \n",
       "\n",
       "                              25%          50%          75%           max  \n",
       "POSTED_BY                0.000000     1.000000     1.000000  2.000000e+00  \n",
       "UNDER_CONSTRUCTION       0.000000     0.000000     0.000000  1.000000e+00  \n",
       "RERA                     0.000000     0.000000     1.000000  1.000000e+00  \n",
       "BHK_NO.                  2.000000     2.000000     3.000000  2.000000e+01  \n",
       "BHK_OR_RK                0.000000     0.000000     0.000000  1.000000e+00  \n",
       "SQUARE_FT              900.021130  1175.056750  1550.688124  2.545455e+08  \n",
       "READY_TO_MOVE            1.000000     1.000000     1.000000  1.000000e+00  \n",
       "RESALE                   1.000000     1.000000     1.000000  1.000000e+00  \n",
       "LONGITUDE               18.452663    20.750000    26.900926  5.991288e+01  \n",
       "LATITUDE                73.798100    77.324137    77.828740  1.529627e+02  \n",
       "TARGET(PRICE_IN_LACS)   38.000000    62.000000   100.000000  3.000000e+04  "
      ]
     },
     "execution_count": 18,
     "metadata": {},
     "output_type": "execute_result"
    }
   ],
   "source": [
    "df.describe().transpose()"
   ]
  },
  {
   "cell_type": "markdown",
   "id": "603366c0-4da8-4065-95d9-ca059161d0fa",
   "metadata": {},
   "source": [
    "as the output column have continueous variables we can identify this is an regression problem."
   ]
  },
  {
   "cell_type": "markdown",
   "id": "5981200a-29cb-411b-a9ef-5b59eab03e74",
   "metadata": {},
   "source": [
    "we have converted all the columns in the numericals so we can procide to find the null values in the dataset"
   ]
  },
  {
   "cell_type": "code",
   "execution_count": 19,
   "id": "37f43183-9cce-4b41-b6a1-31d0dc1cf559",
   "metadata": {},
   "outputs": [
    {
     "data": {
      "text/plain": [
       "POSTED_BY                0\n",
       "UNDER_CONSTRUCTION       0\n",
       "RERA                     0\n",
       "BHK_NO.                  0\n",
       "BHK_OR_RK                0\n",
       "SQUARE_FT                0\n",
       "READY_TO_MOVE            0\n",
       "RESALE                   0\n",
       "LONGITUDE                0\n",
       "LATITUDE                 0\n",
       "TARGET(PRICE_IN_LACS)    0\n",
       "dtype: int64"
      ]
     },
     "execution_count": 19,
     "metadata": {},
     "output_type": "execute_result"
    }
   ],
   "source": [
    "df.isnull().sum()"
   ]
  },
  {
   "cell_type": "markdown",
   "id": "79150b87-96ea-41a4-a47f-362ed338571f",
   "metadata": {},
   "source": [
    "we found the data is clean and having no null values in the dataset so we can further move to do the analysis part for machine learning."
   ]
  },
  {
   "cell_type": "code",
   "execution_count": 20,
   "id": "8172d736-d692-490b-b122-26c4cbfdb8d5",
   "metadata": {},
   "outputs": [],
   "source": [
    "X = df.iloc[:,:-1]\n",
    "y = df.iloc[:,-1]"
   ]
  },
  {
   "cell_type": "code",
   "execution_count": 21,
   "id": "29d9120c-d8c4-4c0d-9919-8d6ef61263c8",
   "metadata": {},
   "outputs": [],
   "source": [
    "from sklearn.model_selection import train_test_split\n",
    "X_train, X_test, y_train, y_test = train_test_split(X,y,test_size=0.2, random_state=100)"
   ]
  },
  {
   "cell_type": "code",
   "execution_count": 22,
   "id": "b5d3e156-2f36-4cc4-8570-1e279d557579",
   "metadata": {},
   "outputs": [
    {
     "name": "stdout",
     "output_type": "stream",
     "text": [
      "X_train: (23560, 10)\n",
      "X_test: (5891, 10)\n",
      "y_train: (23560,)\n",
      "y_test: (5891,)\n"
     ]
    }
   ],
   "source": [
    "print('X_train:', X_train.shape)\n",
    "print('X_test:',X_test.shape)\n",
    "print('y_train:',y_train.shape)\n",
    "print('y_test:',y_test.shape)"
   ]
  },
  {
   "cell_type": "markdown",
   "id": "01f460e4-26de-4e38-8c75-cc2962c4e718",
   "metadata": {},
   "source": [
    "we have successfully cleaned the data and splitted the data as train and test with 80-20% respectively."
   ]
  },
  {
   "cell_type": "code",
   "execution_count": 52,
   "id": "3ea986f6-87a9-48f6-a006-726932306d42",
   "metadata": {},
   "outputs": [],
   "source": [
    "#Algorithms\n",
    "from sklearn.linear_model import LinearRegression\n",
    "from sklearn.naive_bayes import GaussianNB\n",
    "from sklearn.neighbors import KNeighborsRegressor as knr\n",
    "from sklearn.svm import SVR \n",
    "from sklearn.tree import DecisionTreeRegressor\n",
    "from sklearn.metrics import r2_score, mean_squared_error\n",
    "from sklearn import metrics"
   ]
  },
  {
   "cell_type": "code",
   "execution_count": 53,
   "id": "9424b827-1e27-498d-a0cd-710ff9f69a2f",
   "metadata": {},
   "outputs": [],
   "source": [
    "def lieReg():\n",
    "    lr = LinearRegression()\n",
    "    lr.fit(X_train,y_train)\n",
    "    y_pred = lr.predict(X_test)\n",
    "    print('===================Linear Regression===================')\n",
    "    rmse = np.sqrt(metrics.mean_squared_error(y_test,y_pred))\n",
    "    print('RMSE Value for Linear regression is\\n',rmse)\n",
    "    R2 = metrics.r2_score(y_test,y_pred)\n",
    "    print('R2 Score for Linear regression is\\n',R2)"
   ]
  },
  {
   "cell_type": "code",
   "execution_count": 54,
   "id": "20a24523-a1d7-438c-bcc0-7f8235a6972f",
   "metadata": {},
   "outputs": [],
   "source": [
    "def navyBais():\n",
    "    nb = GaussianNB().fit(X_train,y_train)\n",
    "    y_pred = nb.predict(X_test)\n",
    "    print('===================Navie Bayes===================')\n",
    "    rmse = np.sqrt(metrics.mean_squared_error(y_test,y_pred))\n",
    "    print('RMSE Value for Navie Bayes is\\n',rmse)\n",
    "    R2 = metrics.r2_score(y_test,y_pred)\n",
    "    print('R2 Score for Navie Bayes is\\n',R2)"
   ]
  },
  {
   "cell_type": "code",
   "execution_count": 55,
   "id": "fe23ee79-14fe-4b76-ac55-e528cebacb50",
   "metadata": {},
   "outputs": [
    {
     "name": "stdout",
     "output_type": "stream",
     "text": [
      "R2 Score for  1  is 88.06058114469741\n",
      "R2 Score for  2  is 90.41593512846582\n",
      "R2 Score for  3  is 88.0448740822887\n",
      "R2 Score for  4  is 83.80139234611138\n",
      "R2 Score for  5  is 81.17878988756497\n",
      "R2 Score for  6  is 79.2434162826589\n",
      "R2 Score for  7  is 77.51834120933391\n",
      "R2 Score for  8  is 78.16971885696684\n",
      "R2 Score for  9  is 78.66417973791141\n"
     ]
    }
   ],
   "source": [
    "for i in range(1,10):\n",
    "    knn = knr(n_neighbors=i,metric = 'euclidean')\n",
    "    #knn = knr(n_neighbors=i,metric = 'manhattan')\n",
    "    knn.fit(X_train,y_train)\n",
    "    y_pred = knn.predict(X_test)\n",
    "    R2 = metrics.r2_score(y_test,y_pred)*100\n",
    "    print('R2 Score for ',i,' is',R2)"
   ]
  },
  {
   "cell_type": "code",
   "execution_count": 56,
   "id": "06c6fdb7-8b13-414d-a662-78a5a7ac127a",
   "metadata": {},
   "outputs": [
    {
     "name": "stdout",
     "output_type": "stream",
     "text": [
      "R2 Score for  1  is 87.69446856247744\n",
      "R2 Score for  2  is 90.50581847659195\n",
      "R2 Score for  3  is 88.02341861397144\n",
      "R2 Score for  4  is 83.74829234000528\n",
      "R2 Score for  5  is 81.21662622270217\n",
      "R2 Score for  6  is 79.31013879226316\n",
      "R2 Score for  7  is 77.64712874023222\n",
      "R2 Score for  8  is 78.21717072985463\n",
      "R2 Score for  9  is 78.73352575501832\n"
     ]
    }
   ],
   "source": [
    "for i in range(1,10):\n",
    "    #knn = knr(n_neighbors=2,metric = 'euclidean')\n",
    "    knn = knr(n_neighbors=i,metric = 'manhattan')\n",
    "    knn.fit(X_train,y_train)\n",
    "    y_pred = knn.predict(X_test)\n",
    "    R2 = metrics.r2_score(y_test,y_pred)*100\n",
    "    print('R2 Score for ',i,' is',R2)"
   ]
  },
  {
   "cell_type": "code",
   "execution_count": 59,
   "id": "f064667b-2099-4eb5-8df5-e47f10f30b3c",
   "metadata": {},
   "outputs": [],
   "source": [
    "def knn():\n",
    "    #knn = knr(n_neighbors=2,metric = 'euclidean')\n",
    "    knn = knr(n_neighbors=2,metric = 'manhattan')\n",
    "    knn.fit(X_train,y_train)\n",
    "    y_pred = knn.predict(X_test)\n",
    "    print('===================KNN===================')\n",
    "    rmse = np.sqrt(metrics.mean_squared_error(y_test,y_pred))\n",
    "    print('RMSE Value for KNN is\\n',rmse)\n",
    "    R2 = metrics.r2_score(y_test,y_pred)\n",
    "    print('R2 Score for KNN is\\n',R2)"
   ]
  },
  {
   "cell_type": "code",
   "execution_count": 58,
   "id": "ab296fd7-8cbb-419e-8440-e5807eb7fc77",
   "metadata": {},
   "outputs": [
    {
     "name": "stdout",
     "output_type": "stream",
     "text": [
      "R2 Score for  1  is -1.5011763973781678\n",
      "R2 Score for  2  is -1.4824761256834629\n",
      "R2 Score for  3  is -1.463778624913603\n",
      "R2 Score for  4  is -1.4450838950684997\n",
      "R2 Score for  5  is -1.4263919361481747\n",
      "R2 Score for  6  is -1.407702748152695\n",
      "R2 Score for  7  is -1.3890163310819714\n",
      "R2 Score for  8  is -1.3703326849360709\n",
      "R2 Score for  9  is -1.351651809714971\n"
     ]
    }
   ],
   "source": [
    "for i in range(1,10):\n",
    "    model = SVR(C=i)\n",
    "    model.fit(X_train,y_train)\n",
    "    y_pred = model.predict(X_test)\n",
    "    R2 = metrics.r2_score(y_test,y_pred)*100\n",
    "    print('R2 Score for ',i,' is',R2)\n"
   ]
  },
  {
   "cell_type": "code",
   "execution_count": 63,
   "id": "0c54acda-be8d-493d-a7f9-92d7246d297e",
   "metadata": {},
   "outputs": [],
   "source": [
    "def svm():\n",
    "    model = SVR(C=1)\n",
    "    model.fit(X_train,y_train)\n",
    "    y_pred = model.predict(X_test)\n",
    "    print('===================Support Vector===================')\n",
    "    rmse = np.sqrt(metrics.mean_squared_error(y_test,y_pred))\n",
    "    print('RMSE Value for Support Vector is\\n',rmse)\n",
    "    R2 = metrics.r2_score(y_test,y_pred)\n",
    "    print('R2 Score for Support Vector is\\n',R2)"
   ]
  },
  {
   "cell_type": "code",
   "execution_count": 61,
   "id": "3c53160b-6fa5-49df-83bf-d52c81fb26b4",
   "metadata": {},
   "outputs": [
    {
     "name": "stdout",
     "output_type": "stream",
     "text": [
      "R2 Score for  1  is 78.16671085892285\n",
      "R2 Score for  2  is 92.00154890050963\n",
      "R2 Score for  3  is 94.61925334819321\n",
      "R2 Score for  4  is 95.84617959163931\n",
      "R2 Score for  5  is 95.40909634806218\n",
      "R2 Score for  6  is 94.33499180798385\n",
      "R2 Score for  7  is 95.3111625091176\n",
      "R2 Score for  8  is 94.67578688536268\n",
      "R2 Score for  9  is 94.82729490191224\n"
     ]
    }
   ],
   "source": [
    "for i in range(1,10):\n",
    "    dtree = dtr(max_depth = i)\n",
    "    dtree.fit(X_train,y_train)\n",
    "    y_pred = dtree.predict(X_test)\n",
    "    R2 = metrics.r2_score(y_test,y_pred)*100\n",
    "    print('R2 Score for ',i,' is',R2)"
   ]
  },
  {
   "cell_type": "code",
   "execution_count": 64,
   "id": "2bc0154c-14bc-41e4-bd0d-0a8f694a7e36",
   "metadata": {},
   "outputs": [],
   "source": [
    "def dtree():\n",
    "    dtree = dtr(max_depth = 4)\n",
    "    dtree.fit(X_train,y_train)\n",
    "    y_pred = dtree.predict(X_test)\n",
    "    print('===================Decision Tree===================')\n",
    "    rmse = np.sqrt(metrics.mean_squared_error(y_test,y_pred))\n",
    "    print('RMSE Value for Decision Tree is\\n',rmse)\n",
    "    R2 = metrics.r2_score(y_test,y_pred)\n",
    "    print('R2 Score for Decision Tree is\\n',R2)"
   ]
  },
  {
   "cell_type": "code",
   "execution_count": 67,
   "id": "c0c044a3-82dc-446a-b207-429a1eb1481c",
   "metadata": {},
   "outputs": [
    {
     "name": "stdout",
     "output_type": "stream",
     "text": [
      "===================Linear Regression===================\n",
      "RMSE Value for Linear regression is\n",
      " 656.4319965821608\n",
      "R2 Score for Linear regression is\n",
      " 0.29960447862088857\n",
      "===================KNN===================\n",
      "RMSE Value for KNN is\n",
      " 241.68340284650628\n",
      "R2 Score for KNN is\n",
      " 0.9050581847659196\n",
      "===================Support Vector===================\n",
      "RMSE Value for Support Vector is\n",
      " 790.2301572649467\n",
      "R2 Score for Support Vector is\n",
      " -0.015011763973781678\n",
      "===================Decision Tree===================\n",
      "RMSE Value for Decision Tree is\n",
      " 159.86077698900002\n",
      "R2 Score for Decision Tree is\n",
      " 0.9584617959163931\n"
     ]
    }
   ],
   "source": [
    "def main():\n",
    "  lieReg()\n",
    "  #navyBais()\n",
    "  knn()\n",
    "  svm()\n",
    "  dtree()\n",
    "\n",
    "main()"
   ]
  },
  {
   "cell_type": "code",
   "execution_count": 68,
   "id": "a94d617f-7478-4ff7-a577-9fa031d198de",
   "metadata": {},
   "outputs": [],
   "source": [
    "dtree = dtr(max_depth = 4)\n",
    "dtree.fit(X_train,y_train)\n",
    "predictions = dtree.predict(X_test)"
   ]
  },
  {
   "cell_type": "code",
   "execution_count": 69,
   "id": "7327beba-79dc-4814-9271-7636ce3e4a8a",
   "metadata": {},
   "outputs": [
    {
     "name": "stdout",
     "output_type": "stream",
     "text": [
      "MAE: 60.56921641378556\n",
      "MSE: 25555.468019526794\n",
      "RMSE: 159.86077698900002\n"
     ]
    }
   ],
   "source": [
    "print('MAE:', metrics.mean_absolute_error(y_test, predictions))\n",
    "print('MSE:', metrics.mean_squared_error(y_test, predictions))\n",
    "print('RMSE:', np.sqrt(metrics.mean_squared_error(y_test, predictions)))"
   ]
  },
  {
   "cell_type": "code",
   "execution_count": 70,
   "id": "994facf9-d72a-4422-ae52-165c68e913af",
   "metadata": {},
   "outputs": [
    {
     "data": {
      "text/plain": [
       "['model']"
      ]
     },
     "execution_count": 70,
     "metadata": {},
     "output_type": "execute_result"
    }
   ],
   "source": [
    "import joblib\n",
    "joblib.dump(dtree,'model')"
   ]
  },
  {
   "cell_type": "code",
   "execution_count": 71,
   "id": "0d9962a3-ad29-46d8-a572-1dddb88df997",
   "metadata": {},
   "outputs": [
    {
     "data": {
      "text/html": [
       "<div>\n",
       "<style scoped>\n",
       "    .dataframe tbody tr th:only-of-type {\n",
       "        vertical-align: middle;\n",
       "    }\n",
       "\n",
       "    .dataframe tbody tr th {\n",
       "        vertical-align: top;\n",
       "    }\n",
       "\n",
       "    .dataframe thead th {\n",
       "        text-align: right;\n",
       "    }\n",
       "</style>\n",
       "<table border=\"1\" class=\"dataframe\">\n",
       "  <thead>\n",
       "    <tr style=\"text-align: right;\">\n",
       "      <th></th>\n",
       "      <th>POSTED_BY</th>\n",
       "      <th>UNDER_CONSTRUCTION</th>\n",
       "      <th>RERA</th>\n",
       "      <th>BHK_NO.</th>\n",
       "      <th>BHK_OR_RK</th>\n",
       "      <th>SQUARE_FT</th>\n",
       "      <th>READY_TO_MOVE</th>\n",
       "      <th>RESALE</th>\n",
       "      <th>LONGITUDE</th>\n",
       "      <th>LATITUDE</th>\n",
       "      <th>TARGET(PRICE_IN_LACS)</th>\n",
       "    </tr>\n",
       "  </thead>\n",
       "  <tbody>\n",
       "    <tr>\n",
       "      <th>0</th>\n",
       "      <td>0</td>\n",
       "      <td>0</td>\n",
       "      <td>0</td>\n",
       "      <td>2</td>\n",
       "      <td>0</td>\n",
       "      <td>1300.236407</td>\n",
       "      <td>1</td>\n",
       "      <td>1</td>\n",
       "      <td>12.969910</td>\n",
       "      <td>77.597960</td>\n",
       "      <td>55.0</td>\n",
       "    </tr>\n",
       "    <tr>\n",
       "      <th>1</th>\n",
       "      <td>1</td>\n",
       "      <td>0</td>\n",
       "      <td>0</td>\n",
       "      <td>2</td>\n",
       "      <td>0</td>\n",
       "      <td>1275.000000</td>\n",
       "      <td>1</td>\n",
       "      <td>1</td>\n",
       "      <td>12.274538</td>\n",
       "      <td>76.644605</td>\n",
       "      <td>51.0</td>\n",
       "    </tr>\n",
       "    <tr>\n",
       "      <th>2</th>\n",
       "      <td>0</td>\n",
       "      <td>0</td>\n",
       "      <td>0</td>\n",
       "      <td>2</td>\n",
       "      <td>0</td>\n",
       "      <td>933.159722</td>\n",
       "      <td>1</td>\n",
       "      <td>1</td>\n",
       "      <td>12.778033</td>\n",
       "      <td>77.632191</td>\n",
       "      <td>43.0</td>\n",
       "    </tr>\n",
       "    <tr>\n",
       "      <th>3</th>\n",
       "      <td>0</td>\n",
       "      <td>0</td>\n",
       "      <td>1</td>\n",
       "      <td>2</td>\n",
       "      <td>0</td>\n",
       "      <td>929.921143</td>\n",
       "      <td>1</td>\n",
       "      <td>1</td>\n",
       "      <td>28.642300</td>\n",
       "      <td>77.344500</td>\n",
       "      <td>62.5</td>\n",
       "    </tr>\n",
       "    <tr>\n",
       "      <th>4</th>\n",
       "      <td>1</td>\n",
       "      <td>1</td>\n",
       "      <td>0</td>\n",
       "      <td>2</td>\n",
       "      <td>0</td>\n",
       "      <td>999.009247</td>\n",
       "      <td>0</td>\n",
       "      <td>1</td>\n",
       "      <td>22.592200</td>\n",
       "      <td>88.484911</td>\n",
       "      <td>60.5</td>\n",
       "    </tr>\n",
       "  </tbody>\n",
       "</table>\n",
       "</div>"
      ],
      "text/plain": [
       "   POSTED_BY  UNDER_CONSTRUCTION  RERA  BHK_NO.  BHK_OR_RK    SQUARE_FT  \\\n",
       "0          0                   0     0        2          0  1300.236407   \n",
       "1          1                   0     0        2          0  1275.000000   \n",
       "2          0                   0     0        2          0   933.159722   \n",
       "3          0                   0     1        2          0   929.921143   \n",
       "4          1                   1     0        2          0   999.009247   \n",
       "\n",
       "   READY_TO_MOVE  RESALE  LONGITUDE   LATITUDE  TARGET(PRICE_IN_LACS)  \n",
       "0              1       1  12.969910  77.597960                   55.0  \n",
       "1              1       1  12.274538  76.644605                   51.0  \n",
       "2              1       1  12.778033  77.632191                   43.0  \n",
       "3              1       1  28.642300  77.344500                   62.5  \n",
       "4              0       1  22.592200  88.484911                   60.5  "
      ]
     },
     "execution_count": 71,
     "metadata": {},
     "output_type": "execute_result"
    }
   ],
   "source": [
    "df.head()"
   ]
  },
  {
   "cell_type": "code",
   "execution_count": 72,
   "id": "1269d2fd-278f-4f03-b1b7-94ea37dd6d54",
   "metadata": {},
   "outputs": [],
   "source": [
    "m=[[1,0,1,2,0,999,1,1,12.8,77.65]]"
   ]
  },
  {
   "cell_type": "code",
   "execution_count": 73,
   "id": "45e35bde-9453-4c99-9a25-8ff275ded8f6",
   "metadata": {},
   "outputs": [
    {
     "name": "stdout",
     "output_type": "stream",
     "text": [
      "[56.9926566]\n"
     ]
    },
    {
     "name": "stderr",
     "output_type": "stream",
     "text": [
      "/home/studio-lab-user/.conda/envs/default/lib/python3.9/site-packages/sklearn/base.py:450: UserWarning: X does not have valid feature names, but DecisionTreeRegressor was fitted with feature names\n",
      "  warnings.warn(\n"
     ]
    }
   ],
   "source": [
    "solve = joblib.load('model')\n",
    "print(solve.predict(m))"
   ]
  },
  {
   "cell_type": "code",
   "execution_count": null,
   "id": "b06c8a69-3c1f-45fe-ab53-7fa741093e73",
   "metadata": {},
   "outputs": [],
   "source": []
  }
 ],
 "metadata": {
  "kernelspec": {
   "display_name": "default:Python",
   "language": "python",
   "name": "conda-env-default-py"
  },
  "language_info": {
   "codemirror_mode": {
    "name": "ipython",
    "version": 3
   },
   "file_extension": ".py",
   "mimetype": "text/x-python",
   "name": "python",
   "nbconvert_exporter": "python",
   "pygments_lexer": "ipython3",
   "version": "3.9.13"
  }
 },
 "nbformat": 4,
 "nbformat_minor": 5
}
